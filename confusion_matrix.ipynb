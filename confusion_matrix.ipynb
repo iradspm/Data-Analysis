{
 "cells": [
  {
   "cell_type": "code",
   "execution_count": 2,
   "metadata": {},
   "outputs": [],
   "source": [
    "#import modules\n",
    "from sklearn.datasets import make_classification #to generate dataset make_classification\n",
    "from matplotlib import pyplot as plt #for plotting\n",
    "from sklearn.linear_model import LogisticRegression #to perform logistic regression\n",
    "from sklearn.metrics import confusion_matrix #to generate confusion matrix\n",
    "from sklearn.model_selection import train_test_split #to split dataset into training and testing\n",
    "import pandas as pd #for managing datasets"
   ]
  },
  {
   "cell_type": "code",
   "execution_count": 12,
   "metadata": {},
   "outputs": [
    {
     "name": "stdout",
     "output_type": "stream",
     "text": [
      "100\n"
     ]
    }
   ],
   "source": [
    " #generate the dataset\n",
    "x,y=make_classification(\n",
    "        n_samples=100,\n",
    "        n_features=1,\n",
    "        n_classes=2,\n",
    "        n_clusters_per_class=1,\n",
    "        flip_y=0.03,\n",
    "        n_informative=1,\n",
    "        n_redundant=0,\n",
    "        n_repeated=0\n",
    " )\n",
    "#print(len(x))-print total x samples\n",
    "#print(len(y))-print total number of y samples\n",
    "#print(y)-y values printed are categorical, 0 or 1"
   ]
  },
  {
   "cell_type": "code",
   "execution_count": 31,
   "metadata": {},
   "outputs": [
    {
     "data": {
      "image/png": "[encoded data removed]",
      "text/plain": [
       "<Figure size 432x288 with 1 Axes>"
      ]
     },
     "metadata": {
      "needs_background": "light"
     },
     "output_type": "display_data"
    }
   ],
   "source": [
    "#data visualization\n",
    "#using scatter plot\n",
    "plt.scatter(x, y, c=y, cmap='rainbow')\n",
    "plt.title('Scatter plot of logistic regression')\n",
    "plt.show()"
   ]
  },
  {
   "cell_type": "code",
   "execution_count": 18,
   "metadata": {},
   "outputs": [],
   "source": [
    "#split dataset into training and test dataset\n",
    "x_train,x_test,y_train,y_test=train_test_split(x,y,random_state=1)\n",
    "#get the number of x_train values\n",
    "#x_train.shape #75 samples used for training, 25 for testing..use x_train.shape to get calues trained"
   ]
  },
  {
   "cell_type": "code",
   "execution_count": 22,
   "metadata": {},
   "outputs": [
    {
     "data": {
      "text/plain": [
       "LogisticRegression()"
      ]
     },
     "execution_count": 22,
     "metadata": {},
     "output_type": "execute_result"
    }
   ],
   "source": [
    "#perform logistic regression--1. create regression object and fit it\n",
    "log_reg=LogisticRegression() #log_reg is the model\n",
    "log_reg.fit(x_train,y_train)#used to train our training dataset"
   ]
  },
  {
   "cell_type": "code",
   "execution_count": 23,
   "metadata": {},
   "outputs": [
    {
     "name": "stdout",
     "output_type": "stream",
     "text": [
      "[[2.9443741]]\n",
      "[0.00893628]\n"
     ]
    }
   ],
   "source": [
    "#to print coefficients and intercepts\n",
    "print(log_reg.coef_)\n",
    "print(log_reg.intercept_)"
   ]
  },
  {
   "cell_type": "code",
   "execution_count": 24,
   "metadata": {},
   "outputs": [],
   "source": [
    "#perform prediction using the test dataset\n",
    "y_pred=log_reg.predict(x_test)"
   ]
  },
  {
   "cell_type": "code",
   "execution_count": 26,
   "metadata": {},
   "outputs": [
    {
     "data": {
      "text/plain": [
       "array([[12,  0],\n",
       "       [ 0, 13]], dtype=int64)"
      ]
     },
     "execution_count": 26,
     "metadata": {},
     "output_type": "execute_result"
    }
   ],
   "source": [
    "#display how our model predicts correctly\n",
    "#showing confusion matrix[[tp fp],[fn,tn]]\n",
    "confusion_matrix(y_test,y_pred)\n",
    " "
   ]
  },
  {
   "cell_type": "code",
   "execution_count": null,
   "metadata": {},
   "outputs": [],
   "source": [
    "#our model is 100% accurate--there are 0 false positive(positives predicted wrongly) and 0 false negative(negatives predicted wrongly)"
   ]
  }
 ],
 "metadata": {
  "kernelspec": {
   "display_name": "Python 3",
   "language": "python",
   "name": "python3"
  },
  "language_info": {
   "codemirror_mode": {
    "name": "ipython",
    "version": 3
   },
   "file_extension": ".py",
   "mimetype": "text/x-python",
   "name": "python",
   "nbconvert_exporter": "python",
   "pygments_lexer": "ipython3",
   "version": "3.8.5"
  }
 },
 "nbformat": 4,
 "nbformat_minor": 4
}
