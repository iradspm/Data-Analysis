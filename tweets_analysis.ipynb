{
 "cells": [
  {
   "cell_type": "code",
   "execution_count": 29,
   "metadata": {},
   "outputs": [],
   "source": [
    "import tweepy as t\n",
    "consumer_key=\"wR9GZNwAntFvB7k9oVmOTGY0g\"\n",
    "consumer_secret=\"zxu35L0gwHz9fM857Osl56EEduc30J7Dg51wSsc0kGfBeYncE6\"\n",
    "access_token=\"900770104908099586-V3YkB4ho0MrfmTM6WrdkAUmFVcXo9V6\"\n",
    "access_token_secret=\"6Yk5IYvxcJLwaDKClJvxadQocFjsDQEtAhekcVafll4hF\"\n",
    "bearer_token=\"AAAAAAAAAAAAAAAAAAAAAOwsawEAAAAAueQTgjRLVVBXtPzIYnektTz755M%3Dg5YjWJCXNHFUXAfTYlvhTD4QlhVr3naYhhLCclEPKTuFSxTOEC\""
   ]
  },
  {
   "cell_type": "code",
   "execution_count": 37,
   "metadata": {},
   "outputs": [],
   "source": [
    "def getClient():\n",
    "    client=t.Client(bearer_token=bearer_token)\n",
    "    return client"
   ]
  },
  {
   "cell_type": "code",
   "execution_count": 42,
   "metadata": {},
   "outputs": [],
   "source": [
    "def search_tweets(client,query):\n",
    "    #c=getClient()\n",
    "   # The `tweet.fields` query parameter value [created-at] is not one of [attachments,author_id,context_annotations,conversation_id,created_at,entities,geo,id,in_reply_to_user_id,\n",
    "     # lang,non_public_metrics,organic_metrics, possibly_sensitive,promoted_metrics,public_metrics,referenced_tweets,reply_settings,source,text,withheld]\n",
    " #The `expansions` query parameter value [place.fields] is not one of [author_id,referenced_tweets.id,referenced_tweets.id.author_id,entities.mentions.username,\n",
    " # attachments.poll_ids,attachments.media_keys,in_reply_to_user_id,geo.place_id]   \n",
    "    fields=['created_at','geo','lang','attachments','author_id','text','conversation_id','entities','id','context_annotations','in_reply_to_user_id',\n",
    "           'non_public_metrics','organic_metrics','possibly_sensitive','promoted_metrics','public_metrics','referenced_tweets',\n",
    "           'reply_settings','source','withheld']\n",
    "    expansions=['geo.place_id','attachments.media_keys']\n",
    "    tweets=client.search_recent_tweets(query=query,max_results=100,tweet_fields=fields, expansions=expansions)\n",
    "    tweet_data=tweets.data\n",
    "    results=[]\n",
    "    if not tweet_data is None and len(tweet_data)>0:\n",
    "        for tweet in tweet_data:\n",
    "            obj={}\n",
    "            obj['id']=tweet.id\n",
    "            obj['text']=tweet.text\n",
    "            obj['created_at']=tweet.created_at\n",
    "            obj['geo']=tweet.geo\n",
    "            obj['lang']=tweet.lang\n",
    "            obj['attachments']=tweet.attachments\n",
    "            obj['author_id']=tweet.author_id\n",
    "            obj['conversation_id']=tweet.conversation_id\n",
    "            obj['entities']=tweet.entities\n",
    "            obj['context_annotations']=tweet.context_annotations\n",
    "            obj['in_reply_to_user_id']=tweet.in_reply_to_user_id\n",
    "            obj['non_public_metrics']=tweet.non_public_metrics\n",
    "            obj['organic_metrics']=tweet.organic_metrics\n",
    "            obj['possibly_sensitive']=tweet.possibly_sensitive\n",
    "            obj['promoted_metrics']=tweet.promoted_metrics\n",
    "            obj['public_metrics']=tweet.public_metrics\n",
    "            obj['referenced_tweets']=tweet.referenced_tweets\n",
    "            obj['reply_settings']=tweet.reply_settings\n",
    "            obj['source']=tweet.source\n",
    "            obj['withheld']=tweet.withheld\n",
    "            \n",
    "            results.append(obj)\n",
    "    else:\n",
    "        return []\n",
    "    return results"
   ]
  },
  {
   "cell_type": "code",
   "execution_count": 43,
   "metadata": {},
   "outputs": [],
   "source": [
    "def getTweet(client,id):\n",
    "    tweet=client.get_tweet(id,expansions=['author_id','geo.place_id'],user_fields=['username','profile_image_url'], place_fields=['name'])\n",
    "    return tweet"
   ]
  },
  {
   "cell_type": "code",
   "execution_count": 44,
   "metadata": {},
   "outputs": [],
   "source": [
    "client=getClient()\n",
    "tweets=search_tweets(client,\"azimio -is:retweet has media\")\n",
    "objs=[]\n",
    "if len(tweets)>0:\n",
    "    for tweet in tweets:\n",
    "        twt=getTweet(client,tweet['id'])\n",
    "        obj={}\n",
    "        obj['text']=tweet['text']\n",
    "        obj['username']=twt.includes['users'][0].username\n",
    "        obj['profile']=twt.includes['users'][0].profile_image_url\n",
    "       # obj['location']=twt.includes['places'][0].name\n",
    "       # obj['author_id']=twt.includes['users'][0].author_id\n",
    "        obj['id']=tweet['id']\n",
    "        obj['created_at']=tweet['created_at']\n",
    "        obj['geo']=tweet['geo']\n",
    "        obj['lang']=tweet['lang']\n",
    "        obj['attachments']=tweet['attachments']\n",
    "        objs.append(obj)"
   ]
  },
  {
   "cell_type": "code",
   "execution_count": 45,
   "metadata": {},
   "outputs": [
    {
     "name": "stdout",
     "output_type": "stream",
     "text": [
      "[]\n"
     ]
    }
   ],
   "source": [
    "print(objs)"
   ]
  },
  {
   "cell_type": "code",
   "execution_count": 16,
   "metadata": {},
   "outputs": [
    {
     "data": {
      "text/html": [
       "<div>\n",
       "<style scoped>\n",
       "    .dataframe tbody tr th:only-of-type {\n",
       "        vertical-align: middle;\n",
       "    }\n",
       "\n",
       "    .dataframe tbody tr th {\n",
       "        vertical-align: top;\n",
       "    }\n",
       "\n",
       "    .dataframe thead th {\n",
       "        text-align: right;\n",
       "    }\n",
       "</style>\n",
       "<table border=\"1\" class=\"dataframe\">\n",
       "  <thead>\n",
       "    <tr style=\"text-align: right;\">\n",
       "      <th></th>\n",
       "      <th>id</th>\n",
       "      <th>username</th>\n",
       "      <th>profile</th>\n",
       "      <th>text</th>\n",
       "      <th>created_at</th>\n",
       "      <th>geo</th>\n",
       "      <th>lang</th>\n",
       "      <th>attachments</th>\n",
       "    </tr>\n",
       "  </thead>\n",
       "  <tbody>\n",
       "  </tbody>\n",
       "</table>\n",
       "</div>"
      ],
      "text/plain": [
       "Empty DataFrame\n",
       "Columns: [id, username, profile, text, created_at, geo, lang, attachments]\n",
       "Index: []"
      ]
     },
     "execution_count": 16,
     "metadata": {},
     "output_type": "execute_result"
    }
   ],
   "source": [
    "import pandas as pd\n",
    "columns=['id','username','profile','text','created_at','geo','lang','attachments']\n",
    "df=pd.DataFrame(objs, columns=columns)\n",
    "df.head()"
   ]
  },
  {
   "cell_type": "code",
   "execution_count": 104,
   "metadata": {},
   "outputs": [],
   "source": [
    "df.to_csv('tweets.csv')"
   ]
  },
  {
   "cell_type": "code",
   "execution_count": null,
   "metadata": {},
   "outputs": [],
   "source": []
  }
 ],
 "metadata": {
  "kernelspec": {
   "display_name": "Python 3",
   "language": "python",
   "name": "python3"
  },
  "language_info": {
   "codemirror_mode": {
    "name": "ipython",
    "version": 3
   },
   "file_extension": ".py",
   "mimetype": "text/x-python",
   "name": "python",
   "nbconvert_exporter": "python",
   "pygments_lexer": "ipython3",
   "version": "3.8.5"
  }
 },
 "nbformat": 4,
 "nbformat_minor": 4
}
